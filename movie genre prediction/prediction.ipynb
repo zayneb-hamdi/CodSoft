{
 "cells": [
  {
   "cell_type": "code",
   "execution_count": 8,
   "id": "e110d834",
   "metadata": {},
   "outputs": [],
   "source": [
    "#import dependencies"
   ]
  },
  {
   "cell_type": "code",
   "execution_count": 9,
   "id": "32794e4f",
   "metadata": {},
   "outputs": [],
   "source": [
    "#load train and test data from dataset"
   ]
  },
  {
   "cell_type": "code",
   "execution_count": 18,
   "id": "b35f8eb3",
   "metadata": {},
   "outputs": [],
   "source": [
    "#explore data"
   ]
  },
  {
   "cell_type": "code",
   "execution_count": 10,
   "id": "6d0ba098",
   "metadata": {},
   "outputs": [],
   "source": [
    "#clean the data\n"
   ]
  },
  {
   "cell_type": "code",
   "execution_count": 14,
   "id": "9633ca97",
   "metadata": {},
   "outputs": [],
   "source": [
    "#encode genre labels"
   ]
  },
  {
   "cell_type": "code",
   "execution_count": 13,
   "id": "127a6ebe",
   "metadata": {},
   "outputs": [],
   "source": [
    "#vectorization with TF-IDF"
   ]
  },
  {
   "cell_type": "code",
   "execution_count": 15,
   "id": "0f2c9299",
   "metadata": {},
   "outputs": [],
   "source": [
    "#train model"
   ]
  },
  {
   "cell_type": "code",
   "execution_count": 16,
   "id": "62583b2e",
   "metadata": {},
   "outputs": [],
   "source": [
    "#prediction on test data"
   ]
  },
  {
   "cell_type": "code",
   "execution_count": 17,
   "id": "512f69a5",
   "metadata": {},
   "outputs": [],
   "source": [
    "#model accuracy"
   ]
  },
  {
   "cell_type": "code",
   "execution_count": null,
   "id": "202c65a5",
   "metadata": {},
   "outputs": [],
   "source": []
  }
 ],
 "metadata": {
  "kernelspec": {
   "display_name": "base",
   "language": "python",
   "name": "python3"
  },
  "language_info": {
   "codemirror_mode": {
    "name": "ipython",
    "version": 3
   },
   "file_extension": ".py",
   "mimetype": "text/x-python",
   "name": "python",
   "nbconvert_exporter": "python",
   "pygments_lexer": "ipython3",
   "version": "3.12.4"
  }
 },
 "nbformat": 4,
 "nbformat_minor": 5
}
